{
 "cells": [
  {
   "cell_type": "code",
   "execution_count": 2,
   "metadata": {},
   "outputs": [
    {
     "name": "stdout",
     "output_type": "stream",
     "text": [
      "Enter the value of a = 8\n",
      "Enter the value of b = 9\n",
      "Enter the value of c = 10\n",
      "area : 34.197039345533994\n"
     ]
    }
   ],
   "source": [
    "# Q:1- Write a Python Program(with class concepts) to find the area of the triangle using below formula:\n",
    "# area = (s*(s-a)*(s-b)*(s-c))**0.5\n",
    "\n",
    "class Triangle:\n",
    "    \n",
    "    def __init__(self,a,b,c):\n",
    "        self.a = float(a)\n",
    "        self.b = float(b)\n",
    "        self.c = float(c)\n",
    "        \n",
    "    def area(self):\n",
    "        s=(self.a + self.b + self.c)/2\n",
    "        return((s*(s-self.a)*(s-self.b)*(s-self.c))**0.5)\n",
    "    \n",
    "a=input(\"Enter the value of a = \")\n",
    "b=input(\"Enter the value of b = \")\n",
    "c=input(\"Enter the value of c = \")\n",
    "\n",
    "t = Triangle(a, b, c)\n",
    "\n",
    "print(\"area : {}\".format(t.area()))"
   ]
  },
  {
   "cell_type": "code",
   "execution_count": 4,
   "metadata": {},
   "outputs": [
    {
     "name": "stdout",
     "output_type": "stream",
     "text": [
      "Enter words:Vibration\n",
      "Enter Min Length:4\n",
      "Words with at least min length: ['Vibration']\n"
     ]
    }
   ],
   "source": [
    "# Q:1.2- Write a funciton filter_long_words() that takes a list of words \n",
    "# and an integer n and returns the list of words that are longer than n.\n",
    "\n",
    "def filter_long_words(l,a):\n",
    "    words=[]\n",
    "    for j in l:\n",
    "        if(len(j)>=a):\n",
    "            words.append(j)\n",
    "    return words\n",
    "\n",
    "n=input(\"Enter words:\")\n",
    "nt=n.split(\",\")\n",
    "na=input(\"Enter Min Length:\")\n",
    "long=filter_long_words(nt,int(na))\n",
    "\n",
    "print(\"Words with at least min length:\",long)\n"
   ]
  },
  {
   "cell_type": "code",
   "execution_count": 1,
   "metadata": {},
   "outputs": [
    {
     "name": "stdout",
     "output_type": "stream",
     "text": [
      "ab 2\n",
      "cde 3\n",
      "erty 4\n"
     ]
    }
   ],
   "source": [
    "# Q: 2.1- write a python program using function concept that maps lsit of words\n",
    "# into a list of integers represeting the lengths of the corresponding words.\n",
    "\n",
    "# measure some strings:\n",
    "\n",
    "words = ['ab', 'cde', 'erty']\n",
    "for w in words:\n",
    "    print(w, len(w))\n",
    "    "
   ]
  },
  {
   "cell_type": "code",
   "execution_count": 2,
   "metadata": {},
   "outputs": [
    {
     "name": "stdout",
     "output_type": "stream",
     "text": [
      "Input a letter of the alphabet: t\n",
      "t is False.\n"
     ]
    }
   ],
   "source": [
    "# Write a Python fucntion which takes a character (i.e a string of lenght 1)\n",
    "# and returns Trust if it is a vowel, False otherwise\n",
    "\n",
    "l = input(\"Input a letter of the alphabet: \")\n",
    "\n",
    "if l in ('a', 'e', 'i', 'o', 'u'):\n",
    "    print(\"%s is True.\" % l)\n",
    "elif l == 'y':\n",
    "    print(\"Sometimes letter y True, sometimes False.\")\n",
    "else:\n",
    "    print(\"%s is False.\" % l) \n"
   ]
  },
  {
   "cell_type": "code",
   "execution_count": null,
   "metadata": {},
   "outputs": [],
   "source": []
  }
 ],
 "metadata": {
  "kernelspec": {
   "display_name": "Python 3",
   "language": "python",
   "name": "python3"
  },
  "language_info": {
   "codemirror_mode": {
    "name": "ipython",
    "version": 3
   },
   "file_extension": ".py",
   "mimetype": "text/x-python",
   "name": "python",
   "nbconvert_exporter": "python",
   "pygments_lexer": "ipython3",
   "version": "3.6.5"
  }
 },
 "nbformat": 4,
 "nbformat_minor": 2
}
